{
 "cells": [
  {
   "cell_type": "markdown",
   "id": "463f2bdc",
   "metadata": {},
   "source": [
    "### Fazer uma função que multiplique dois números entrados pelo usuário"
   ]
  },
  {
   "cell_type": "code",
   "execution_count": null,
   "id": "9dd7444f",
   "metadata": {},
   "outputs": [],
   "source": [
    "def main():\n",
    "    primeiro_numero = float(input(\"Digite seu primeiro número:\"))\n",
    "    segundo_numero = float(input(\"Digite seu segundo número:\"))\n",
    "    multiplicacao = primeiro_numero * segundo_numero\n",
    "    print(f\"A multiplicação entre {primeiro_numero} e {segundo_numero} = {multiplicacao}\")\n",
    "# --------\n",
    "# A linha a seguir executa o programa\n",
    "main()"
   ]
  },
  {
   "cell_type": "markdown",
   "id": "15fe2e8e",
   "metadata": {},
   "source": [
    "### Fazer uma função que divida dois números entrados pelo usuário"
   ]
  },
  {
   "cell_type": "code",
   "execution_count": null,
   "id": "027c0302",
   "metadata": {},
   "outputs": [],
   "source": [
    "def main():\n",
    "    primeiro_numero = float(input(\"Digite seu primeiro número:\"))\n",
    "    segundo_numero = float(input(\"Digite seu segundo número\"))\n",
    "    divisão = primeiro_numero / segundo_numero\n",
    "    print(\"A divisão entre {0} e {1} = {2}\".format(primeiro_numero,segundo_numero,divisão))\n",
    "# --------\n",
    "# A linha a seguir executa o programa\n",
    "main()"
   ]
  },
  {
   "cell_type": "markdown",
   "id": "a7284b1d",
   "metadata": {},
   "source": [
    "### Fazer uma função que subtraia quatro números entrados pelo usuário"
   ]
  },
  {
   "cell_type": "code",
   "execution_count": null,
   "id": "4b3fa566",
   "metadata": {},
   "outputs": [],
   "source": [
    "def main():\n",
    "    primeiro_numero = float(input(\"Digite seu primeiro número:\"))\n",
    "    segundo_numero = float(input(\"Digite seu segundo número\"))\n",
    "    terceiro_numero = float(input(\"Digite seu terceiro número\"))\n",
    "    quarto_numero = float(input(\"Digite seu quarto número\"))\n",
    "    subtração = primeiro_numero - segundo_numero - terceiro_numero - quarto_numero\n",
    "    print(\"A subtração de {} com {} com {} com {} é igual a {}\".format(primeiro_numero,segundo_numero,\n",
    "                                                                            terceiro_numero,quarto_numero,subtração))\n",
    "# --------\n",
    "# A linha a seguir executa o programa\n",
    "main()"
   ]
  }
 ],
 "metadata": {
  "kernelspec": {
   "display_name": "Python 3",
   "language": "python",
   "name": "python3"
  },
  "language_info": {
   "codemirror_mode": {
    "name": "ipython",
    "version": 3
   },
   "file_extension": ".py",
   "mimetype": "text/x-python",
   "name": "python",
   "nbconvert_exporter": "python",
   "pygments_lexer": "ipython3",
   "version": "3.8.8"
  }
 },
 "nbformat": 4,
 "nbformat_minor": 5
}
